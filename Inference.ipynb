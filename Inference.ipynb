{
 "cells": [
  {
   "cell_type": "code",
   "execution_count": 1,
   "metadata": {},
   "outputs": [
    {
     "name": "stderr",
     "output_type": "stream",
     "text": [
      "Using TensorFlow backend.\n"
     ]
    }
   ],
   "source": [
    "import numpy as np\n",
    "import pandas as pd\n",
    "import pydicom\n",
    "%matplotlib inline\n",
    "import matplotlib.pyplot as plt\n",
    "import keras\n",
    "from PIL import Image\n",
    "from matplotlib import cm"
   ]
  },
  {
   "cell_type": "code",
   "execution_count": 2,
   "metadata": {},
   "outputs": [],
   "source": [
    "# This function reads in a .dcm file, checks the important fields for our device, and returns a numpy array\n",
    "# of just the imaging data\n",
    "def check_dicom(filename):\n",
    "    print('Load file {} ...'.format(filename))\n",
    "    ds = pydicom.dcmread(filename)\n",
    "    try:\n",
    "        assert ds.BodyPartExamined == 'CHEST' and ds.PatientPosition in ['PA','AP'] and ds.Modality == 'DX'\n",
    "    except AssertionError as ex:\n",
    "        print('Invalid DICOM')\n",
    "    img = ds.pixel_array\n",
    "    return img\n",
    "\n",
    "# This function takes the numpy array output by check_dicom and \n",
    "# runs the appropriate pre-processing needed for our model input\n",
    "def preprocess_image(img,img_mean,img_std,img_size):\n",
    "    normalized_img = img / 255\n",
    "    img_dim0 = img_size[0]\n",
    "    img_dim1 = img_size[1]\n",
    "    img_dim2 = img_size[2]\n",
    "    img_dim3 = img_size[3]\n",
    "    \n",
    "    img = Image.fromarray(img)\n",
    "    resized_img = img.resize((img_dim1, img_dim2))\n",
    "    resized_img = np.asarray(resized_img)\n",
    "    \n",
    "    width, height, channels = img_dim1, img_dim2, 1\n",
    "    proc_img = np.tile(resized_img.reshape((img_dim0, width, height, channels)), img_dim3)\n",
    "    proc_img = (proc_img - img_mean) / img_std\n",
    "    return proc_img\n",
    "\n",
    "# This function loads in our trained model w/ weights and compiles it \n",
    "def load_model(model_path, weight_path):\n",
    "    file_path = open(model_path, 'r')\n",
    "    model = keras.models.model_from_json(file_path.read())\n",
    "    model.load_weights(weight_path)\n",
    "    return model\n",
    "\n",
    "# This function uses our device's threshold parameters to predict whether or not\n",
    "# the image shows the presence of pneumonia using our trained model\n",
    "def predict_image(model, img, thresh):\n",
    "    prediction = 'Pneumonia' if model.predict(img) > thresh else 'Non-Pneumonia'\n",
    "    return prediction"
   ]
  },
  {
   "cell_type": "code",
   "execution_count": 3,
   "metadata": {},
   "outputs": [
    {
     "name": "stdout",
     "output_type": "stream",
     "text": [
      "Load file test1.dcm ...\n",
      "Non-Pneumonia\n",
      "Load file test2.dcm ...\n",
      "Non-Pneumonia\n",
      "Load file test3.dcm ...\n",
      "Pneumonia\n",
      "Load file test4.dcm ...\n",
      "Invalid DICOM\n",
      "Non-Pneumonia\n",
      "Load file test5.dcm ...\n",
      "Invalid DICOM\n",
      "Non-Pneumonia\n",
      "Load file test6.dcm ...\n",
      "Invalid DICOM\n",
      "Non-Pneumonia\n"
     ]
    }
   ],
   "source": [
    "test_dicoms = ['test1.dcm','test2.dcm','test3.dcm','test4.dcm','test5.dcm','test6.dcm']\n",
    "\n",
    "model_path = 'my_model.json' # path to saved model\n",
    "weight_path = '{}_my_model.best.hdf5'.format('xray_class') # path to saved best weights\n",
    "\n",
    "IMG_SIZE=(1,224,224,3) # This might be different if you did not use vgg16\n",
    "img_mean = 0 # loads the mean image value they used during training preprocessing\n",
    "img_std = 1 # loads the std dev image value they used during training preprocessing\n",
    "\n",
    "my_model = load_model(model_path, weight_path) # loads model\n",
    "thresh = 0.50 # loads the threshold they chose for model classification \n",
    "\n",
    "# use the .dcm files to test your prediction\n",
    "for i in test_dicoms:\n",
    "    \n",
    "    img = np.array([])\n",
    "    img = check_dicom(i)\n",
    "    \n",
    "    if img is None:\n",
    "        continue\n",
    "    \n",
    "    img_proc = preprocess_image(img,img_mean,img_std,IMG_SIZE)\n",
    "    pred = predict_image(my_model,img_proc,thresh)\n",
    "    print(pred)"
   ]
  }
 ],
 "metadata": {
  "kernelspec": {
   "display_name": "Python 3",
   "language": "python",
   "name": "python3"
  },
  "language_info": {
   "codemirror_mode": {
    "name": "ipython",
    "version": 3
   },
   "file_extension": ".py",
   "mimetype": "text/x-python",
   "name": "python",
   "nbconvert_exporter": "python",
   "pygments_lexer": "ipython3",
   "version": "3.7.6"
  }
 },
 "nbformat": 4,
 "nbformat_minor": 2
}
